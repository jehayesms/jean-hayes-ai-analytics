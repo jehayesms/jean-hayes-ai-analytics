{
 "cells": [
  {
   "cell_type": "code",
   "execution_count": null,
   "id": "42650a1b-bdac-4c76-bad6-31939024f1f1",
   "metadata": {
    "microsoft": {
     "language": "python",
     "language_group": "synapse_pyspark"
    }
   },
   "outputs": [],
   "source": []
  },
  {
   "cell_type": "markdown",
   "id": "aa049f84",
   "metadata": {},
   "source": [
    "This notebook calls Azure AI Content Understanding to extract course information from a Community Education that is in a PDF file. The results are stored in a Delta lake table in the Fabric Lakehouse."
   ]
  },
  {
   "cell_type": "code",
   "execution_count": null,
   "id": "8ce438d0-5b63-42aa-bcf0-7e64efe2eb40",
   "metadata": {
    "microsoft": {
     "language": "python",
     "language_group": "synapse_pyspark"
    },
    "tags": [
     "parameters"
    ]
   },
   "outputs": [
    {
     "data": {
      "application/vnd.livy.statement-meta+json": {
       "execution_finish_time": "2025-10-14T17:44:47.484558Z",
       "execution_start_time": "2025-10-14T17:44:45.9783081Z",
       "livy_statement_state": "available",
       "normalized_state": "finished",
       "parent_msg_id": "dafc744b-a64d-4ade-aaf8-281724cf5c71",
       "queued_time": "2025-10-14T17:44:45.9772238Z",
       "session_id": "aa4cc8d1-68aa-4c03-a8b3-a917a242f2c1",
       "session_start_time": null,
       "spark_pool": null,
       "state": "finished",
       "statement_id": 15,
       "statement_ids": [
        15
       ]
      },
      "text/plain": [
       "StatementMeta(, aa4cc8d1-68aa-4c03-a8b3-a917a242f2c1, 15, Finished, Available, Finished)"
      ]
     },
     "metadata": {},
     "output_type": "display_data"
    }
   ],
   "source": [
    "# The endpoint for the AI Resource, the subscription key for the# AI Resource and the analyzer name are stored in keyvault secrets\n",
    "# Pipeline and variable libraries contain the other values and are passed in as parameters\n",
    "\n",
    "kv_endpoint = 'https://yourkvname.vault.azure.net/'\n",
    "secret_name_subscription_key = 'subscription-key'\n",
    "secret_name_ai_endpoint = 'content-understanding-endpoint'\n",
    "secret_analyzer_name = 'analyzer-name'\n",
    "content_ws_id = 'your-fabric-workspace-id'\n",
    "content_lh_id = 'your-fabric-lakehouse-id'\n",
    "doc_location = \"https://raw.githubusercontent.com/contosojh/sample-files/main/summer-catalog-10-pages.pdf\"\n",
    "table_name = 'summercatalog2025'"
   ]
  },
  {
   "cell_type": "code",
   "execution_count": null,
   "id": "55fb7df6-9f9c-438b-ad95-a9c30ecec3a3",
   "metadata": {
    "microsoft": {
     "language": "python",
     "language_group": "synapse_pyspark"
    }
   },
   "outputs": [
    {
     "data": {
      "application/vnd.livy.statement-meta+json": {
       "execution_finish_time": "2025-10-14T17:44:48.2733523Z",
       "execution_start_time": "2025-10-14T17:44:47.486622Z",
       "livy_statement_state": "available",
       "normalized_state": "finished",
       "parent_msg_id": "d2054126-da3a-40da-a40a-a04f3dfa937d",
       "queued_time": "2025-10-14T17:44:46.0992845Z",
       "session_id": "aa4cc8d1-68aa-4c03-a8b3-a917a242f2c1",
       "session_start_time": null,
       "spark_pool": null,
       "state": "finished",
       "statement_id": 16,
       "statement_ids": [
        16
       ]
      },
      "text/plain": [
       "StatementMeta(, aa4cc8d1-68aa-4c03-a8b3-a917a242f2c1, 16, Finished, Available, Finished)"
      ]
     },
     "metadata": {},
     "output_type": "display_data"
    }
   ],
   "source": [
    "#set up delta table path\n",
    "delta_table_path = f\"abfss://{content_ws_id}@onelake.dfs.fabric.microsoft.com/{content_lh_id}/Tables/{table_name}\""
   ]
  },
  {
   "cell_type": "code",
   "execution_count": null,
   "id": "30d7f728-93a3-424b-9be0-cd18de1e7df0",
   "metadata": {
    "microsoft": {
     "language": "python",
     "language_group": "synapse_pyspark"
    }
   },
   "outputs": [
    {
     "data": {
      "application/vnd.livy.statement-meta+json": {
       "execution_finish_time": "2025-10-14T17:44:49.8268687Z",
       "execution_start_time": "2025-10-14T17:44:48.2753885Z",
       "livy_statement_state": "available",
       "normalized_state": "finished",
       "parent_msg_id": "f6355ab6-0471-4c40-8813-ad8977a69ba8",
       "queued_time": "2025-10-14T17:44:46.2903974Z",
       "session_id": "aa4cc8d1-68aa-4c03-a8b3-a917a242f2c1",
       "session_start_time": null,
       "spark_pool": null,
       "state": "finished",
       "statement_id": 17,
       "statement_ids": [
        17
       ]
      },
      "text/plain": [
       "StatementMeta(, aa4cc8d1-68aa-4c03-a8b3-a917a242f2c1, 17, Finished, Available, Finished)"
      ]
     },
     "metadata": {},
     "output_type": "display_data"
    }
   ],
   "source": [
    "# Set up timeout and polling interval\n",
    "timeout_seconds = 9000\n",
    "polling_interval_seconds = 20"
   ]
  },
  {
   "cell_type": "code",
   "execution_count": null,
   "id": "9ee2f36a-ab64-4e38-87d9-e6051df1cf25",
   "metadata": {
    "microsoft": {
     "language": "python",
     "language_group": "synapse_pyspark"
    }
   },
   "outputs": [
    {
     "data": {
      "application/vnd.livy.statement-meta+json": {
       "execution_finish_time": "2025-10-14T17:44:52.2045854Z",
       "execution_start_time": "2025-10-14T17:44:49.8289267Z",
       "livy_statement_state": "available",
       "normalized_state": "finished",
       "parent_msg_id": "2a4f8f50-0a5c-4775-9526-6ecf5664f6a3",
       "queued_time": "2025-10-14T17:44:46.5931285Z",
       "session_id": "aa4cc8d1-68aa-4c03-a8b3-a917a242f2c1",
       "session_start_time": null,
       "spark_pool": null,
       "state": "finished",
       "statement_id": 18,
       "statement_ids": [
        18
       ]
      },
      "text/plain": [
       "StatementMeta(, aa4cc8d1-68aa-4c03-a8b3-a917a242f2c1, 18, Finished, Available, Finished)"
      ]
     },
     "metadata": {},
     "output_type": "display_data"
    }
   ],
   "source": [
    "# Get the Azure AI Endpoint, the Azure AI Endpoint Subscription Key and Analyzer Name from Key Vault\n",
    "subscription_key = mssparkutils.credentials.getSecret(kv_endpoint,secret_name_subscription_key)\n",
    "ai_endpoint= mssparkutils.credentials.getSecret(kv_endpoint,secret_name_ai_endpoint)\n",
    "analyzer_name = mssparkutils.credentials.getSecret(kv_endpoint,secret_analyzer_name)\n"
   ]
  },
  {
   "cell_type": "code",
   "execution_count": 15,
   "id": "0f8f4f27-7570-4932-9b22-8ec2e698650c",
   "metadata": {
    "microsoft": {
     "language": "python",
     "language_group": "synapse_pyspark"
    }
   },
   "outputs": [
    {
     "data": {
      "application/vnd.livy.statement-meta+json": {
       "execution_finish_time": "2025-10-14T17:44:54.4808942Z",
       "execution_start_time": "2025-10-14T17:44:52.9830833Z",
       "livy_statement_state": "available",
       "normalized_state": "finished",
       "parent_msg_id": "814adbe0-5841-413f-be2f-7a6ada0d2b86",
       "queued_time": "2025-10-14T17:44:47.0854379Z",
       "session_id": "aa4cc8d1-68aa-4c03-a8b3-a917a242f2c1",
       "session_start_time": null,
       "spark_pool": null,
       "state": "finished",
       "statement_id": 20,
       "statement_ids": [
        20
       ]
      },
      "text/plain": [
       "StatementMeta(, aa4cc8d1-68aa-4c03-a8b3-a917a242f2c1, 20, Finished, Available, Finished)"
      ]
     },
     "metadata": {},
     "output_type": "display_data"
    }
   ],
   "source": [
    "import requests\n",
    "import time\n",
    "from azure.keyvault.secrets import SecretClient\n",
    "import pandas as pd\n",
    "from delta.tables import *\n",
    "from pyspark.sql.functions import *\n"
   ]
  },
  {
   "cell_type": "code",
   "execution_count": null,
   "id": "69a928e6-0457-4848-a611-780bb4fd4ac1",
   "metadata": {
    "jupyter": {
     "source_hidden": false
    },
    "microsoft": {
     "language": "python",
     "language_group": "synapse_pyspark"
    }
   },
   "outputs": [],
   "source": [
    "# Define headers with the subscription key and content-type\n",
    "headers = {\n",
    "    \"Ocp-Apim-Subscription-Key\": subscription_key,\n",
    "    \"Content-Type\": \"application/json\"\n",
    "}\n",
    "\n",
    "# Define the body with the URL to be sent in the request\n",
    "body = {\n",
    "    \"url\": doc_location\n",
    "}\n",
    "\n",
    "# Send a POST request to the specified endpoint\n",
    "display(\"Sending POST request...\")\n",
    "response = requests.post(\n",
    "    f\"{ai_endpoint}contentunderstanding/analyzers/{analyzer_name}:analyze?api-version=2025-05-01-preview\",\n",
    "    headers=headers,\n",
    "    json=body\n",
    ")"
   ]
  },
  {
   "cell_type": "code",
   "execution_count": null,
   "id": "6e8b7672-fb2b-4838-920d-d6ee8f615256",
   "metadata": {
    "jupyter": {
     "outputs_hidden": false,
     "source_hidden": false
    },
    "microsoft": {
     "language": "python",
     "language_group": "synapse_pyspark"
    },
    "nteract": {
     "transient": {
      "deleting": false
     }
    }
   },
   "outputs": [],
   "source": [
    "# Check if the request was successful\n",
    "if response.status_code == 404:\n",
    "    print(\"Resource not found. Please check the endpoint URL and the resource you are requesting.\")\n",
    "    print(f\"Response: {response.json()}\")\n",
    "else:\n",
    "    result_headers = {\n",
    "        \"Ocp-Apim-Subscription-Key\": subscription_key\n",
    "    }\n",
    "    opid = response.json().get(\"id\")\n",
    "\n",
    "    status_url = f\"{ai_endpoint}/contentunderstanding/analyzerResults/{opid}?api-version=2025-05-01-preview\"\n",
    "    response = requests.get(status_url, headers=result_headers)\n",
    "    result = response.json()\n",
    "    status = result.get(\"status\")\n",
    "    start_time = time.time()\n",
    "    elapsed_time = 0\n",
    "\n",
    "    # Poll until the operation is complete\n",
    "    while status == \"Running\":\n",
    "        response = requests.get(status_url, headers=result_headers)\n",
    "        result = response.json()\n",
    "        status = result.get(\"status\")\n",
    "        if status == \"Running\":\n",
    "            time.sleep(polling_interval_seconds)\n",
    "            elapsed_time = time.time() - start_time\n",
    "            if elapsed_time > timeout_seconds:\n",
    "                # Cancel the job if the elapsed time exceeds the timeout\n",
    "                cancel_url = f\"{ai_endpoint}/contentunderstanding/analyzersResults/{opid}?api-version=2025-05-01-preview\"\n",
    "                cancel_response = requests.delete(cancel_url, headers=result_headers)\n",
    "                status = \"Timed Out; job cancelled\"\n",
    "\n",
    "        elif status in [\"Failed\", \"Cancelled\"]:\n",
    "            raise Exception(f\"Operation {status}\")\n",
    "\n",
    "    print(f\"Status: {status}\")"
   ]
  },
  {
   "cell_type": "code",
   "execution_count": null,
   "id": "a69cfd10-7e82-4ceb-9305-4bc1da276572",
   "metadata": {
    "collapsed": false,
    "jupyter": {
     "outputs_hidden": false,
     "source_hidden": false
    },
    "microsoft": {
     "language": "python",
     "language_group": "synapse_pyspark"
    }
   },
   "outputs": [],
   "source": [
    "if status == \"Succeeded\":\n",
    "    results_json = result.get(\"result\")\n",
    "    contents = results_json.get(\"contents\")\n",
    "    course_list = contents[0]['fields']['summerCourseCatalog']['valueArray']\n",
    "    data = []\n",
    "    for course in course_list:\n",
    "        obj = course['valueObject']\n",
    "        row = {\n",
    "            'courseCategory': obj['courseCategory']['valueString'],\n",
    "            'courseName': obj['courseName']['valueString'],\n",
    "            'courseDescription': obj['courseDescription']['valueString'],\n",
    "            'courseSectionNumber': obj['courseSectionNumber']['valueString'],\n",
    "            'courseSectionName': obj['courseSectionName']['valueString'],\n",
    "            'courseInstructor': obj['courseInstructor']['valueString'],\n",
    "            'courseStartDate': obj['courseStartDate']['valueDate'],\n",
    "            'courseTime': obj['courseTime']['valueString'],\n",
    "            'numberOfSessions': obj['numberOfSessions']['valueNumber'],\n",
    "            'courseLocation': obj['courseLocation']['valueString'],\n",
    "            'courseCost': obj['courseCost']['valueNumber'],\n",
    "            'courseEndDate': obj['courseEndDate']['valueString']\n",
    "        }\n",
    "        data.append(row)\n",
    "        \n",
    "    # Create a DataFrame\n",
    "    df = pd.DataFrame(data)\n",
    "    spark = SparkSession.builder \\\n",
    "         .appName(\"DeltaWrite\") \\\n",
    "         .getOrCreate()\n",
    "    df_spark = spark.createDataFrame(df)\n",
    "\n",
    "    # Write the DataFrame to the Delta table (Delta format)\n",
    "    df_spark.write.format(\"delta\").mode(\"append\").save(delta_table_path)\n",
    "else:\n",
    "    if elapsed_time >= timeout_seconds:\n",
    "        print(f\"Status was {status} but timed out after {elapsed_time} seconds\")\n"
   ]
  }
 ],
 "metadata": {
  "dependencies": {},
  "kernel_info": {
   "name": "synapse_pyspark"
  },
  "kernelspec": {
   "display_name": "synapse_pyspark",
   "name": "synapse_pyspark"
  },
  "language_info": {
   "name": "python"
  },
  "microsoft": {
   "language": "python",
   "language_group": "synapse_pyspark",
   "ms_spell_check": {
    "ms_spell_check_language": "en"
   }
  },
  "nteract": {
   "version": "nteract-front-end@1.0.0"
  },
  "spark_compute": {
   "compute_id": "/trident/default",
   "session_options": {
    "conf": {
     "spark.synapse.nbs.session.timeout": "1200000"
    }
   }
  },
  "synapse_widget": {
   "state": {
    "3e27d972-b0be-45ab-9917-4ce72b0755e4": {
     "persist_state": {
      "view": {
       "chartOptions": {
        "aggregationType": "sum",
        "binsNumber": 10,
        "categoryFieldKeys": [],
        "chartType": "bar",
        "isStacked": false,
        "seriesFieldKeys": [],
        "wordFrequency": "-1"
       },
       "tableOptions": {},
       "type": "details",
       "viewOptionsGroup": [
        {
         "tabItems": [
          {
           "key": "0",
           "name": "Table",
           "options": {},
           "type": "table"
          }
         ]
        }
       ]
      }
     },
     "sync_state": {
      "isSummary": false,
      "language": "python",
      "table": {
       "rows": [
        {
         "0": "ARTS & MUSIC",
         "1": "BEGINNING BASKETRY",
         "2": "Weave reeds into a basket for you, or to gift to a friend! Reeds are provided. Other supplies will need to be brought to class-view full list online.",
         "3": "3025SA",
         "4": "",
         "5": "M. B. Hummel",
         "6": "2025-05-14",
         "7": "6:00-8:00PM",
         "8": "2",
         "9": "Harding HS",
         "10": "56",
         "11": "2025-05-21",
         "index": 0,
         "key": 0
        },
        {
         "0": "ARTS & MUSIC",
         "1": "FLAT REED BASKETRY WORKSHOP",
         "2": "Weave reeds into your very own basket! Reeds are provided. Other supplies will need to be brought to class-view full list online.",
         "3": "3024SuA",
         "4": "",
         "5": "M. B. Hummel",
         "6": "2025-07-15",
         "7": "9:00AM-3:30PM",
         "8": "3",
         "9": "1780 West 7th",
         "10": "159",
         "11": "2025-07-29",
         "index": 1,
         "key": 1
        },
        {
         "0": "ARTS & MUSIC",
         "1": "INTRODUCTION TO CROP ART",
         "2": "Learn, directly from a Blue Ribbon winner, how to design and create a cropart piece for entry in the MN State Fair! Hear the history of crop art and rules for submission. Receive step-by-step guidance using a template. All supplies included, seeds, too!",
         "3": "3170SA",
         "4": "",
         "5": "M. Shore",
         "6": "2025-05-31",
         "7": "9:30-11:30AM",
         "8": "1",
         "9": "Global Arts Plus Upper",
         "10": "59",
         "11": "2025-05-31",
         "index": 2,
         "key": 2
        },
        {
         "0": "ARTS & MUSIC",
         "1": "NEW CROP ART COLLABORATION (ADULT + CHILD)",
         "2": "One adult and one child ages 10-15. Register under the child's name. Work with your favorite young artist to create a crop art piece while learning the history of crop art. Using a template, get step-by-step guidance to make your own piece. Walk away with the skills and knowledge to submit your own crop art at the Minnesota State Fair. All supplies included.",
         "3": "3171SA",
         "4": "",
         "5": "M. Shore",
         "6": "2025-06-07",
         "7": "9:30-11:30AM",
         "8": "1",
         "9": "Global Arts Plus Upper",
         "10": "75",
         "11": "2025-06-07",
         "index": 3,
         "key": 3
        },
        {
         "0": "ARTS & MUSIC",
         "1": "NEW HENNA WORKSHOP",
         "2": "Discover the beauty and tradition of organic and authentic henna art! Explore the history and cultural significance of henna, learn to mix organic henna, apply your own beautiful floral and patterned designs, and take home your own henna cone! All materials provided.",
         "3": "3021SA",
         "4": "",
         "5": "S. Avula",
         "6": "2025-05-21",
         "7": "6:00-8:00PM",
         "8": "1",
         "9": "Global Arts Plus Upper",
         "10": "50",
         "11": "2025-05-21",
         "index": 4,
         "key": 4
        },
        {
         "0": "ARTS & MUSIC",
         "1": "NATURAL MELT & POUR SOAP",
         "2": "Make three handcrafted goat milk bar soaps, learning basic color and fragrance techniques. All essential oils and most colorants are foraged by the instructor; items that cannot be foraged are purchased from a local Dakota medicine shop. The instructor only uses what is available and in season. All supplies included.",
         "3": "3010SA",
         "4": "",
         "5": "T. Villegas",
         "6": "2025-04-17",
         "7": "6:00-9:00PM",
         "8": "1",
         "9": "1780 West 7th",
         "10": "63",
         "11": "2025-04-17",
         "index": 5,
         "key": 5
        },
        {
         "0": "ARTS & MUSIC",
         "1": "NATURAL MELT & POUR SOAP",
         "2": "Make three handcrafted goat milk bar soaps, learning basic color and fragrance techniques. All essential oils and most colorants are foraged by the instructor; items that cannot be foraged are purchased from a local Dakota medicine shop. The instructor only uses what is available and in season. All supplies included.",
         "3": "3010SB",
         "4": "",
         "5": "T. Villegas",
         "6": "2025-05-15",
         "7": "6:00-9:00PM",
         "8": "1",
         "9": "1780 West 7th",
         "10": "63",
         "11": "2025-05-15",
         "index": 6,
         "key": 6
        },
        {
         "0": "ARTS & MUSIC",
         "1": "NATURAL MELT & POUR SOAP",
         "2": "Make three handcrafted goat milk bar soaps, learning basic color and fragrance techniques. All essential oils and most colorants are foraged by the instructor; items that cannot be foraged are purchased from a local Dakota medicine shop. The instructor only uses what is available and in season. All supplies included.",
         "3": "3010SuA",
         "4": "",
         "5": "T. Villegas",
         "6": "2025-06-26",
         "7": "6:00-9:00PM",
         "8": "1",
         "9": "1780 West 7th",
         "10": "63",
         "11": "2025-06-26",
         "index": 7,
         "key": 7
        },
        {
         "0": "ARTS & MUSIC",
         "1": "NATURAL MELT & POUR SOAP",
         "2": "Make three handcrafted goat milk bar soaps, learning basic color and fragrance techniques. All essential oils and most colorants are foraged by the instructor; items that cannot be foraged are purchased from a local Dakota medicine shop. The instructor only uses what is available and in season. All supplies included.",
         "3": "3010SuB",
         "4": "",
         "5": "T. Villegas",
         "6": "2025-07-24",
         "7": "6:00-9:00PM",
         "8": "1",
         "9": "1780 West 7th",
         "10": "63",
         "11": "2025-07-24",
         "index": 8,
         "key": 8
        },
        {
         "0": "ARTS & MUSIC",
         "1": "ZENTANGLE ART",
         "2": "Combine meditation and drawing with Zentangle! This drawing method uses structured, repeating patterns to create one-of-a-kind art. No drawing experience is necessary. All supplies included.",
         "3": "3135SA",
         "4": "",
         "5": "L. Treichel",
         "6": "2025-04-14",
         "7": "6:30-8:00PM",
         "8": "2",
         "9": "Central HS",
         "10": "48",
         "11": "2025-04-21",
         "index": 9,
         "key": 9
        },
        {
         "0": "ARTS & MUSIC",
         "1": "ZENTANGLE ART",
         "2": "Combine meditation and drawing with Zentangle! This drawing method uses structured, repeating patterns to create one-of-a-kind art. No drawing experience is necessary. All supplies included.",
         "3": "3135SB",
         "4": "",
         "5": "L. Treichel",
         "6": "2025-04-22",
         "7": "6:30-8:00PM",
         "8": "2",
         "9": "1780 West 7th",
         "10": "48",
         "11": "2025-04-29",
         "index": 10,
         "key": 10
        },
        {
         "0": "ARTS & MUSIC",
         "1": "NEW ZENTANGLE ART 2.0",
         "2": "Level up to 8 new tangles to explore, as well as a project. This drawing method uses structured, repeating patterns to create one-of-a-kind art. No drawing experience is necessary. All supplies included.",
         "3": "3136SA",
         "4": "",
         "5": "L. Treichel",
         "6": "2025-04-28",
         "7": "6:30-8:00PM",
         "8": "2",
         "9": "Central HS",
         "10": "48",
         "11": "2025-05-05",
         "index": 11,
         "key": 11
        },
        {
         "0": "ARTS & MUSIC",
         "1": "NEW PLASTER RELIEF ART",
         "2": "Craft stunning three-dimensional designs by sculpting and carving clay molds to fill with plaster. Whether you're drawn to abstract textures or intricate patterns, tools and techniques will bring your vision to life. Perfect for beginners and experienced creators alike. Leave with a unique plaster masterpiece to display. All materials provided.",
         "3": "3281SuA",
         "4": "",
         "5": "A. Gaseitsiwe",
         "6": "2025-06-30",
         "7": "6:00-8:30PM",
         "8": "1",
         "9": "1780 West 7th",
         "10": "57",
         "11": "2025-06-30",
         "index": 12,
         "key": 12
        },
        {
         "0": "ARTS & MUSIC",
         "1": "BASICS OF HAND LETTERING",
         "2": "Learn the fundamentals of hand lettering, skills to make lettering easier, and create a fully hand lettered poster through a step-by-step tutorial. The finished piece will be on an 8\"x10\" sheet of paper. All supplies are included.",
         "3": "3001SA",
         "4": "",
         "5": "D. Christopherson",
         "6": "2025-06-26",
         "7": "6:00-8:00PM",
         "8": "1",
         "9": "1780 W 7th",
         "10": "33",
         "11": "2025-06-26",
         "index": 13,
         "key": 13
        },
        {
         "0": "ARTS & MUSIC",
         "1": "NEW LADY'S SLIPPER FLOWER WORKSHOP",
         "2": "Come fold, cut, and crease paper to create our Minnesota State Flower! This large, showy pink flower will not fade under your careful, creative care. All supplies included.",
         "3": "3285SuA",
         "4": "",
         "5": "A. Gaseitsiwe",
         "6": "2025-06-23",
         "7": "6:30-8:30PM",
         "8": "1",
         "9": "1780 West 7th",
         "10": "47",
         "11": "2025-06-23",
         "index": 14,
         "key": 14
        },
        {
         "0": "ARTS & MUSIC",
         "1": "INTRO TO JUNK JOURNALING",
         "2": "Junk journaling uses both personal and recycled materials to mark memories. Learn pamphlet construction, binding, paper selection, and creative techniques like adding pockets or tuck spots. Great for anyone interested in creative journaling. Supplies provided for the first class. Items from home can be brought on weeks 2 and 3.",
         "3": "3063SuA",
         "4": "",
         "5": "C. Shyne",
         "6": "2025-06-23",
         "7": "6:00-8:00PM",
         "8": "3",
         "9": "Global Arts Plus Upper",
         "10": "44",
         "11": "2025-07-07",
         "index": 15,
         "key": 15
        },
        {
         "0": "ARTS & MUSIC",
         "1": "NEW JUNK JOURNALING- UNLEASHED!",
         "2": "Take your Junk Journaling to the next level! Craft unique journals using creative materials like old books and fabric, explore bookbinding basics, and add fun elements like pockets. Participants are encouraged to bring materials from home such as personal items and memorabilia to use in layouts.",
         "3": "3064SA",
         "4": "",
         "5": "C. Shyne",
         "6": "2025-04-07",
         "7": "6:00-8:00PM",
         "8": "3",
         "9": "Global Arts Plus Upper",
         "10": "44",
         "11": "2025-04-21",
         "index": 16,
         "key": 16
        },
        {
         "0": "ARTS & MUSIC",
         "1": "A CARD FOR EVERY OCCASION",
         "2": "Create cards including; birthday, sympathy, get well, and thinking of you. Card makers are welcome to bring their preferred adhesive. All supplies included. View the online class listing for examples of what we'll make!",
         "3": "3296SA",
         "4": "",
         "5": "J. Kielblock",
         "6": "2025-05-08",
         "7": "6:00-8:00PM",
         "8": "1",
         "9": "1780 West 7th",
         "10": "25",
         "11": "2025-05-08",
         "index": 17,
         "key": 17
        },
        {
         "0": "ARTS & MUSIC",
         "1": "A CARD FOR EVERY OCCASION",
         "2": "Create cards including; birthday, sympathy, get well, and thinking of you. Card makers are welcome to bring their preferred adhesive. All supplies included. View the online class listing for examples of what we'll make!",
         "3": "3296SuA",
         "4": "",
         "5": "J. Kielblock",
         "6": "2025-07-24",
         "7": "6:00-8:00PM",
         "8": "1",
         "9": "1780 West 7th",
         "10": "25",
         "11": "2025-07-24",
         "index": 18,
         "key": 18
        },
        {
         "0": "ARTS & MUSIC",
         "1": "GREETING CARD MAKING",
         "2": "Create greeting cards using various coloring techniques, different folds, die cutting, and embossing. Paper crafters are welcome to bring their preferred adhesive to use. All supplies included. View the online class listing for examples of what we will make.",
         "3": "3297SA",
         "4": "",
         "5": "J. Kielblock",
         "6": "2025-04-15",
         "7": "6:00-8:00PM",
         "8": "1",
         "9": "1780 West 7th",
         "10": "25",
         "11": "2025-04-15",
         "index": 19,
         "key": 19
        },
        {
         "0": "ARTS & MUSIC",
         "1": "GREETING CARD MAKING",
         "2": "Create greeting cards using various coloring techniques, different folds, die cutting, and embossing. Paper crafters are welcome to bring their preferred adhesive to use. All supplies included. View the online class listing for examples of what we will make.",
         "3": "3297SuA",
         "4": "",
         "5": "J. Kielblock",
         "6": "2025-08-19",
         "7": "6:00-8:00PM",
         "8": "1",
         "9": "1780 West 7th",
         "10": "25",
         "11": "2025-08-19",
         "index": 20,
         "key": 20
        },
        {
         "0": "ARTS & MUSIC",
         "1": "PAPER BOOK MAKING WORKSHOP",
         "2": "A workshop is a great way to learn the craft of paper books; making lots of different shapes and types. You'll be delighted at what you can produce from paper. Bring scissors, ruler, pencil, and small cutting mat (if you have one).",
         "3": "3011SuA",
         "4": "",
         "5": "M. B. Hummel",
         "6": "2025-07-08",
         "7": "9:00AM-3:30PM",
         "8": "2",
         "9": "1780 West 7th",
         "10": "117",
         "11": "2025-07-15",
         "index": 21,
         "key": 21
        },
        {
         "0": "ARTS & MUSIC",
         "1": "PAPER QUILLING",
         "2": "Roll, loop, curl, and twist strips of paper into different shapes and decorative designs to decorate greeting cards, journals and books or make your own unique paper quilling art. This class has a supply list to purchase. View full supply list online.",
         "3": "3091SA",
         "4": "",
         "5": "R. Curran",
         "6": "2025-05-15",
         "7": "6:30-8:30PM",
         "8": "3",
         "9": "1780 West 7th",
         "10": "45",
         "11": "2025-05-29",
         "index": 22,
         "key": 22
        },
        {
         "0": "TEXTILES",
         "1": "BEGINNER SEWING CLASS",
         "2": "And sew it begins! Learn the basics of sewing and create something using hand- and sewing-machine techniques. Project options include: lanyard wallet, purse, snack bag, bookmark and more. Supplies are included.",
         "3": "3005SA",
         "4": "",
         "5": "N. Rivas",
         "6": "2025-04-24",
         "7": "4:30-7:30PM",
         "8": "1",
         "9": "1780 West 7th",
         "10": "103",
         "11": "2025-04-24",
         "index": 23,
         "key": 23
        },
        {
         "0": "TEXTILES",
         "1": "BEGINNER SEWING CLASS",
         "2": "And sew it begins! Learn the basics of sewing and create something using hand- and sewing-machine techniques. Project options include: lanyard wallet, purse, snack bag, bookmark and more. Supplies are included.",
         "3": "3005SB",
         "4": "",
         "5": "N. Rivas",
         "6": "2025-05-08",
         "7": "4:30-7:30PM",
         "8": "1",
         "9": "1780 West 7th",
         "10": "103",
         "11": "2025-05-08",
         "index": 24,
         "key": 24
        },
        {
         "0": "TEXTILES",
         "1": "BEGINNER SEWING CLASS",
         "2": "And sew it begins! Learn the basics of sewing and create something using hand- and sewing-machine techniques. Project options include: lanyard wallet, purse, snack bag, bookmark and more. Supplies are included.",
         "3": "3005SuA",
         "4": "",
         "5": "N. Rivas",
         "6": "2025-08-21",
         "7": "4:30-7:30PM",
         "8": "1",
         "9": "1780 West 7th",
         "10": "103",
         "11": "2025-08-21",
         "index": 25,
         "key": 25
        },
        {
         "0": "TEXTILES",
         "1": "SEWING FOR THE TERRIFIED",
         "2": "For those completely new to sewing. Learn how to use your machine, useful tools, seams, and finishes, and complete a small book bag project. You must bring your own sewing machine and pedal in good working order to the first session. View the full supply list online.",
         "3": "3699SuA",
         "4": "",
         "5": "C. Kahn",
         "6": "2025-07-12",
         "7": "10:00AM-12:00PM",
         "8": "5",
         "9": "Stitch Masters Sewing School",
         "10": "205",
         "11": "2025-08-09",
         "index": 26,
         "key": 26
        },
        {
         "0": "TEXTILES",
         "1": "NEW SEWING WITH KNITS",
         "2": "Explore fabrics like cotton jersey, sweater knits, and spandex blends. Master seam types, stretch stitches, elastic, and edge finishes. Gain tips, tricks, and practice with provided fabric samples. Bring your sewing machine/pedal to the first class, along with your favorite tools.",
         "3": "3699SuA",
         "4": "",
         "5": "C. Kahn",
         "6": "2025-04-28",
         "7": "6:00-8:00PM",
         "8": "4",
         "9": "Stitch Masters Sewing School",
         "10": "205",
         "11": "2025-05-19",
         "index": 27,
         "key": 27
        },
        {
         "0": "TEXTILES",
         "1": "NEW SIT AND SEW PAJ NTAUB (HMONG TEXTILE ART)",
         "2": "Learn the rich culture and history of the Hmong Paj Ntaub (pa' N'dau) and start a cross stitch kit to bring home. All supplies included.",
         "3": "3149SuA",
         "4": "",
         "5": "Hmong Museum",
         "6": "2025-06-26",
         "7": "6:00-9:00PM",
         "8": "1",
         "9": "1780 West 7th",
         "10": "47",
         "11": "2025-06-26",
         "index": 28,
         "key": 28
        },
        {
         "0": "TEXTILES",
         "1": "NEW SIMPLE CLOTHING ALTERATIONS",
         "2": "Master tricky clothing alterations, tackle hemming pants, adjusting sleeves, shortening straps, and fixing fit issues. From jeans to sleeveless tops, use your sewing machine to make store-bought clothes fit like a dream. Perfect for all skill levels! Bring your sewing machine and pedal to the first class along with your favorite tools.",
         "3": "3088SA",
         "4": "",
         "5": "C. Kahn",
         "6": "2025-04-07",
         "7": "6:00-8:00PM",
         "8": "3",
         "9": "Stitch Masters Sewing School",
         "10": "197",
         "11": "2025-04-21",
         "index": 29,
         "key": 29
        },
        {
         "0": "TEXTILES",
         "1": "NEW SEWING OPEN STUDIO",
         "2": "Stuck on your personal sewing project and need some professional help? Bring your own sewing project and get professional coaching and advice! Work on fitting, techniques, or pattern challenges. Bring your project, list of questions, your own sewing machine/pedal, and tools to work on your project.",
         "3": "3698SuA",
         "4": "",
         "5": "C. Kahn",
         "6": "2025-07-17",
         "7": "4:00-7:00PM",
         "8": "1",
         "9": "Stitch Masters Sewing School",
         "10": "53",
         "11": "2025-07-17",
         "index": 30,
         "key": 30
        },
        {
         "0": "TEXTILES",
         "1": "NEW UNDERSTANDING FABRIC",
         "2": "Buying fabric can be confusing, especially online. Discuss words like 'hand' and 'drape', and the difference between silk and satin in this brief introduction to fibers, weave structures, performance attributes, and buying strategies. A collection of swatches will be made for you to refer to in the future.",
         "3": "3289SA",
         "4": "",
         "5": "C. Kahn",
         "6": "2025-06-10",
         "7": "7:00-9:00PM",
         "8": "4",
         "9": "Stitch Masters Sewing School",
         "10": "205",
         "11": "2025-07-01",
         "index": 31,
         "key": 31
        },
        {
         "0": "TEXTILES",
         "1": "NEW WOOLY BIRDS",
         "2": "Knit, felt, and embellish a woolly bird to look like a robin, a cardinal, or a chickadee. Knit your feathered friend using worsted weight yarn, and be introduced to simple needle felting techniques to embellish your bird and make it your own. Previous experience with double knitting point needles required. This class has a supply list to purchase. View full supply list online.",
         "3": "3033SA",
         "4": "",
         "5": "M. Mayhew",
         "6": "2025-04-14",
         "7": "6:30-8:30PM",
         "8": "2",
         "9": "1780 West 7th",
         "10": "49",
         "11": "2025-04-21",
         "index": 32,
         "key": 32
        },
        {
         "0": "TEXTILES",
         "1": "BEGINNING KNITTING 101",
         "2": "Knit and purl your way to textiles, perfect for Minnesota's changing weather. Bring a pair of size 7 knitting needles and a skein of worsted weight yarn (no dark colors).",
         "3": "3058SA",
         "4": "",
         "5": "M. B. Hummel",
         "6": "2025-04-16",
         "7": "6:00-8:00PM",
         "8": "3",
         "9": "Harding HS",
         "10": "57",
         "11": "2025-04-30",
         "index": 33,
         "key": 33
        },
        {
         "0": "PAINTING & PRINTMAKING",
         "1": "NEW ALEXANDER OIL PAINTING",
         "2": "Paint like Bill Alexander, the original 'Happy Painter' on PBS! Learn Bill's famous wet-on-wet method on a 16\" by 20\" canvas that students take home. All materials provided. This class is taught by an Alexander Certified instructor. View online listing of the canvas we will paint.",
         "3": "3156SA",
         "4": "LARGO",
         "5": "K. Klein",
         "6": "2025-05-12",
         "7": "6:00-9:00PM",
         "8": "1",
         "9": "1780 West 7th",
         "10": "59",
         "11": "2025-05-12",
         "index": 34,
         "key": 34
        },
        {
         "0": "PAINTING & PRINTMAKING",
         "1": "NEW ALEXANDER OIL PAINTING",
         "2": "Paint like Bill Alexander, the original 'Happy Painter' on PBS! Learn Bill's famous wet-on-wet method on a 16\" by 20\" canvas that students take home. All materials provided. This class is taught by an Alexander Certified instructor. View online listing of the canvas we will paint.",
         "3": "3156SB",
         "4": "MAJESTIC WILDERNESS",
         "5": "K. Klein",
         "6": "2025-05-19",
         "7": "6:00-9:00PM",
         "8": "1",
         "9": "1780 West 7th",
         "10": "59",
         "11": "2025-05-19",
         "index": 35,
         "key": 35
        },
        {
         "0": "PAINTING & PRINTMAKING",
         "1": "NEW ALEXANDER OIL PAINTING",
         "2": "Paint like Bill Alexander, the original 'Happy Painter' on PBS! Learn Bill's famous wet-on-wet method on a 16\" by 20\" canvas that students take home. All materials provided. This class is taught by an Alexander Certified instructor. View online listing of the canvas we will paint.",
         "3": "3156SuA",
         "4": "MONTANA DE ORO",
         "5": "K. Klein",
         "6": "2025-07-21",
         "7": "6:00-9:00PM",
         "8": "1",
         "9": "1780 West 7th",
         "10": "59",
         "11": "2025-07-21",
         "index": 36,
         "key": 36
        },
        {
         "0": "PAINTING & PRINTMAKING",
         "1": "NEW ALEXANDER OIL PAINTING",
         "2": "Paint like Bill Alexander, the original 'Happy Painter' on PBS! Learn Bill's famous wet-on-wet method on a 16\" by 20\" canvas that students take home. All materials provided. This class is taught by an Alexander Certified instructor. View online listing of the canvas we will paint.",
         "3": "3156SuB",
         "4": "SWEET DREAMS",
         "5": "K. Klein",
         "6": "2025-08-11",
         "7": "6:00-9:00PM",
         "8": "1",
         "9": "1780 West 7th",
         "10": "59",
         "11": "2025-08-11",
         "index": 37,
         "key": 37
        },
        {
         "0": "PAINTING & PRINTMAKING",
         "1": "INTRODUCTION TO WATERCOLOR 2.0",
         "2": "Students of all levels can create successful watercolor paintings. Paint one smaller painting each week focusing on specific watercolor techniques, especially wet-into-wet, and letting the water do the work. This class has a supply list to purchase before class, view full list online.",
         "3": "3146SA",
         "4": "",
         "5": "C. Spohn",
         "6": "2025-04-07",
         "7": "4:30-6:30PM",
         "8": "4",
         "9": "1780 West 7th",
         "10": "72",
         "11": "2025-04-28",
         "index": 38,
         "key": 38
        },
        {
         "0": "PAINTING & PRINTMAKING",
         "1": "PLAYING WITH WATERCOLOR",
         "2": "Watercolor painting is easier than you think! Focus on smaller paintings for use as cards or small framed paintings. Different techniques and paintings each season. This class has a supply list to purchase, view full list online.",
         "3": "3142SA",
         "4": "",
         "5": "C. Spohn",
         "6": "2025-04-07",
         "7": "7:00-9:00PM",
         "8": "4",
         "9": "1780 West 7th",
         "10": "72",
         "11": "2025-04-28",
         "index": 39,
         "key": 39
        },
        {
         "0": "PAINTING & PRINTMAKING",
         "1": "SEEING RED: WATERCOLOR PAINTING",
         "2": "Paint two 7\"x15\" watercolor paintings focusing on red flowers. Similar techniques and processes allow the paintings to be displayed as a duo. Step-by-step-instruction helps beginner and experienced painters complete successful paintings. This class has a supply list to purchase, view full list online.",
         "3": "3120SA",
         "4": "",
         "5": "C. Spohn",
         "6": "2025-04-08",
         "7": "7:00-9:00PM",
         "8": "4",
         "9": "1780 West 7th",
         "10": "72",
         "11": "2025-04-29",
         "index": 40,
         "key": 40
        },
        {
         "0": "PAINTING & PRINTMAKING",
         "1": "NEW WATERCOLOR WITH COFFEE",
         "2": "Did you know you can drink your coffee and paint with it too? Design and paint two unique watercolor cards using coffee. Learn a variety of basic to intermediate watercolor techniques and designs. Step-by-step instruction, all supplies, and a complimentary coffee drink included. No prior experience needed!",
         "3": "3006SA",
         "4": "",
         "5": "E. Gagnon",
         "6": "2025-06-01",
         "7": "1:00-3:00PM",
         "8": "1",
         "9": "Backstory Coffee - Saint Paul",
         "10": "45",
         "11": "2025-06-01",
         "index": 41,
         "key": 41
        },
        {
         "0": "PAINTING & PRINTMAKING",
         "1": "INTRO TO WATERCOLOR FLORALS",
         "2": "Paint two 7\"x15\" watercolor paintings, one with coneflowers and one with delphiniums. Use similar techniques and processes to create flowers with a background uniting them for displaying together. Step-by-step instruction for beginners or experienced painters. This class has a supply list to purchase. View full list online.",
         "3": "3147SA",
         "4": "",
         "5": "C. Spohn",
         "6": "2025-04-08",
         "7": "4:30-6:30PM",
         "8": "4",
         "9": "1780 West 7th",
         "10": "72",
         "11": "2025-04-29",
         "index": 42,
         "key": 42
        },
        {
         "0": "PAINTING & PRINTMAKING",
         "1": "MANDALA ROCK ART",
         "2": "Keep calm and relax by learning the art of mandala rocks. Design dotted mandala rocks together! Learn the history and meaning behind mandala art and apply that knowledge to create special painted rocks to take home or share with others! Supplies included.",
         "3": "3199SuB",
         "4": "",
         "5": "",
         "6": "2025-07-08",
         "7": "6:00-7:30PM",
         "8": "1",
         "9": "1780 West 7th",
         "10": "35",
         "11": "2025-07-08",
         "index": 43,
         "key": 43
        },
        {
         "0": "PAINTING & PRINTMAKING",
         "1": "MANDALA ROCK ART (ADULT + CHILD)",
         "2": "One adult and one child ages 5-15. Register under the name of the child attending. Design dotted mandala rocks together! Learn about the art form and create special painted rocks to take home or share with others! Supplies included.",
         "3": "3199SA",
         "4": "",
         "5": "",
         "6": "2025-05-13",
         "7": "6:00-7:30PM",
         "8": "1",
         "9": "Como Park HS",
         "10": "51",
         "11": "2025-05-13",
         "index": 44,
         "key": 44
        },
        {
         "0": "PAINTING & PRINTMAKING",
         "1": "MANDALA ROCK ART (ADULT + CHILD)",
         "2": "One adult and one child ages 5-15. Register under the name of the child attending. Design dotted mandala rocks together! Learn about the art form and create special painted rocks to take home or share with others! Supplies included.",
         "3": "3199SAB",
         "4": "",
         "5": "",
         "6": "2025-04-08",
         "7": "6:00-7:30PM",
         "8": "1",
         "9": "Como Park HS",
         "10": "51",
         "11": "2025-04-08",
         "index": 45,
         "key": 45
        },
        {
         "0": "PAINTING & PRINTMAKING",
         "1": "MANDALA ROCK ART (ADULT + CHILD)",
         "2": "One adult and one child ages 5-15. Register under the name of the child attending. Design dotted mandala rocks together! Learn about the art form and create special painted rocks to take home or share with others! Supplies included.",
         "3": "3199SuA",
         "4": "",
         "5": "",
         "6": "2025-06-24",
         "7": "6:00-7:30PM",
         "8": "1",
         "9": "1780 West 7th",
         "10": "51",
         "11": "2025-06-24",
         "index": 46,
         "key": 46
        },
        {
         "0": "PAINTING & PRINTMAKING",
         "1": "LINOCUT RELIEF PRINTING",
         "2": "Uncover your true artistic abilities through linocuts! Learn how to carve images into a linoleum block, and use it to make a series of prints, with each print varying just slightly in appearance. All supplies included.",
         "3": "3204SA",
         "4": "",
         "5": "",
         "6": "2025-04-29",
         "7": "6:00-8:00PM",
         "8": "1",
         "9": "Como Park HS",
         "10": "44",
         "11": "2025-04-29",
         "index": 47,
         "key": 47
        },
        {
         "0": "PAINTING & PRINTMAKING",
         "1": "LINOCUT RELIEF PRINTING",
         "2": "Uncover your true artistic abilities through linocuts! Learn how to carve images into a linoleum block, and use it to make a series of prints, with each print varying just slightly in appearance. All supplies included.",
         "3": "3204SuA",
         "4": "",
         "5": "",
         "6": "2025-07-10",
         "7": "6:00-8:00PM",
         "8": "1",
         "9": "1780 West 7th",
         "10": "44",
         "11": "2025-07-10",
         "index": 48,
         "key": 48
        },
        {
         "0": "PAINTING & PRINTMAKING",
         "1": "NEW GELLI PLATE PRINTMAKING",
         "2": "Gelli prints are a fresh twist on monoprinting. Learn about nontraditional printmaking, and create a series of unique prints from gelatin plates combining natural materials, stencils and paint. Experiment with layers and explore natural shapes and textures. All supplies included.",
         "3": "3215SA",
         "4": "",
         "5": "",
         "6": "2025-05-06",
         "7": "6:00-7:30PM",
         "8": "1",
         "9": "Como Park HS",
         "10": "44",
         "11": "2025-05-06",
         "index": 49,
         "key": 49
        },
        {
         "0": "PAINTING & PRINTMAKING",
         "1": "NEW PRINTMAKING SERIES",
         "2": "Explore the world of printmaking in this beginner-friendly, hands-on series! Explore 3 techniques in 3 weeks. Carve and print with linoleum blocks, layer patterns using screen printing, and experiment with playful textures and colors on gelli plates. All materials provided.",
         "3": "3280SA",
         "4": "",
         "5": "A. Gaseitsiwe",
         "6": "2025-05-05",
         "7": "6:30-8:30PM",
         "8": "3",
         "9": "1780 West 7th",
         "10": "165",
         "11": "2025-05-19",
         "index": 50,
         "key": 50
        },
        {
         "0": "PAINTING & PRINTMAKING",
         "1": "NEW TERRACOTTA POT PAINTING",
         "2": "Flower pot painting classes are a blooming good time! From beginners eager to explore their artistic side to seasoned painters looking for a vibrant new project, our 'Blooms in color' theme will plant the seeds of creativity. Leave with one 8\" terracotta pot. All materials included.",
         "3": "3009SA",
         "4": "",
         "5": "S. Avula",
         "6": "2025-05-27",
         "7": "5:30-7:30PM",
         "8": "1",
         "9": "1780 West 7th",
         "10": "45",
         "11": "2025-05-27",
         "index": 51,
         "key": 51
        },
        {
         "0": "PAINTING & PRINTMAKING",
         "1": "POINTILLISM PAINTING (ADULT + CHILD)",
         "2": "One adult and one child ages 5-15. Register under the name of the child attending. Capture the feeling of an old Marvel comic book or a Lichtenstein painting, using only dots to compose your picture. With Q-tips and a variety of paint colors, produce a painting any budding comic artist would enjoy! All supplies included.",
         "3": "3214SA",
         "4": "",
         "5": "",
         "6": "2025-04-15",
         "7": "6:00-7:30PM",
         "8": "1",
         "9": "Como Park HS",
         "10": "51",
         "11": "2025-04-15",
         "index": 52,
         "key": 52
        },
        {
         "0": "CERAMIC, GLASS, METAL, & WOOD",
         "1": "BEGINNING AND INTERMEDIATE POTTERY & WHEELWORK",
         "2": "Receive expert instruction in throwing pieces using an electric wheel. Clay and glazes will be used. All supplies included. Hand building is also covered at Harding High School. Please note: All work must be done at class during designated class hours. No class May 26 and Jul. 3.",
         "3": "3002SC",
         "4": "",
         "5": "M. Johnson",
         "6": "2025-04-07",
         "7": "6:00-8:30PM",
         "8": "8",
         "9": "Central HS",
         "10": "225",
         "11": "2025-05-26",
         "index": 53,
         "key": 53
        },
        {
         "0": "CERAMIC, GLASS, METAL, & WOOD",
         "1": "BEGINNING AND INTERMEDIATE POTTERY & WHEELWORK",
         "2": "Receive expert instruction in throwing pieces using an electric wheel. Clay and glazes will be used. All supplies included. Hand building is also covered at Harding High School. Please note: All work must be done at class during designated class hours. No class May 26 and Jul. 3.",
         "3": "3002SA",
         "4": "",
         "5": "A. Huot-Link",
         "6": "2025-04-09",
         "7": "6:30-9:00PM",
         "8": "8",
         "9": "Central HS",
         "10": "225",
         "11": "2025-05-28",
         "index": 54,
         "key": 54
        },
        {
         "0": "CERAMIC, GLASS, METAL, & WOOD",
         "1": "BEGINNING AND INTERMEDIATE POTTERY & WHEELWORK",
         "2": "Receive expert instruction in throwing pieces using an electric wheel. Clay and glazes will be used. All supplies included. Hand building is also covered at Harding High School. Please note: All work must be done at class during designated class hours. No class May 26 and Jul. 3.",
         "3": "3002SuA",
         "4": "",
         "5": "T. Cook",
         "6": "2025-07-08",
         "7": "5:30-8:30PM",
         "8": "5",
         "9": "Central HS",
         "10": "169",
         "11": "2025-08-05",
         "index": 55,
         "key": 55
        },
        {
         "0": "CERAMIC, GLASS, METAL, & WOOD",
         "1": "BEGINNING AND INTERMEDIATE POTTERY & WHEELWORK",
         "2": "Receive expert instruction in throwing pieces using an electric wheel. Clay and glazes will be used. All supplies included. Hand building is also covered at Harding High School. Please note: All work must be done at class during designated class hours. No class May 26 and Jul. 3.",
         "3": "3002SB",
         "4": "",
         "5": "J. Jones",
         "6": "2025-04-09",
         "7": "6:00-8:30PM",
         "8": "8",
         "9": "Harding HS",
         "10": "225",
         "11": "2025-05-28",
         "index": 56,
         "key": 56
        },
        {
         "0": "CERAMIC, GLASS, METAL, & WOOD",
         "1": "BEGINNING AND INTERMEDIATE POTTERY & WHEELWORK",
         "2": "Receive expert instruction in throwing pieces using an electric wheel. Clay and glazes will be used. All supplies included. Hand building is also covered at Harding High School. Please note: All work must be done at class during designated class hours. No class May 26 and Jul. 3.",
         "3": "3002SD",
         "4": "",
         "5": "",
         "6": "2025-04-10",
         "7": "6:30-9:00PM",
         "8": "8",
         "9": "1780 West 7th",
         "10": "225",
         "11": "2025-05-29",
         "index": 57,
         "key": 57
        },
        {
         "0": "CERAMIC, GLASS, METAL, & WOOD",
         "1": "BEGINNING AND INTERMEDIATE POTTERY & WHEELWORK",
         "2": "Receive expert instruction in throwing pieces using an electric wheel. Clay and glazes will be used. All supplies included. Hand building is also covered at Harding High School. Please note: All work must be done at class during designated class hours. No class May 26 and Jul. 3.",
         "3": "3002SuD",
         "4": "",
         "5": "",
         "6": "2025-06-26",
         "7": "6:00-8:30PM",
         "8": "8",
         "9": "1780 West 7th",
         "10": "225",
         "11": "2025-08-14",
         "index": 58,
         "key": 58
        },
        {
         "0": "CERAMIC, GLASS, METAL, & WOOD",
         "1": "NEW WROUGHT IRON TWISTS",
         "2": "Ages 18 and up. Iron forging- with a twist! Spend the day discovering the art of blacksmithing and create hand-forged twisted fire pokers. No previous experience necessary. Participants bring basic safety equipment to class- see full list online.",
         "3": "3105SuA",
         "4": "",
         "5": "The Guild of Metalsmiths",
         "6": "2025-07-12",
         "7": "9:00AM-4:00PM",
         "8": "1",
         "9": "MN School of Horseshoeing",
         "10": "89",
         "11": "2025-07-12",
         "index": 59,
         "key": 59
        },
        {
         "0": "CERAMIC, GLASS, METAL, & WOOD",
         "1": "BLACKSMITH FUNDAMENTALS: BOTTLE OPENERS",
         "2": "Ages 18 and up. Begin building your blacksmith skills by forging your own bottle opener! Bottle openers are quick to make and can incorporate all the basic blacksmithing processes into one compact project. End class with a celebratory bottle-opening to try out your new tool (that means a beer or soda is included!).",
         "3": "3075SuA",
         "4": "",
         "5": "",
         "6": "2025-06-22",
         "7": "1:00-6:00PM",
         "8": "1",
         "9": "Chicago Avenue Fire Arts",
         "10": "90",
         "11": "2025-06-22",
         "index": 60,
         "key": 60
        },
        {
         "0": "CERAMIC, GLASS, METAL, & WOOD",
         "1": "NEW BOROSILICATE GLASS: LITTLE CRITTERS",
         "2": "Light a torch, melt borosilicate glass, and sculpt with color to create your own adorable 3-D glass critter in a beginner-friendly environment! Your critter will need time to cool properly so you'll need to pick up your glass pal two days later. Supplies included.",
         "3": "3121SA",
         "4": "",
         "5": "Chicago Avenue Fire Arts Center",
         "6": "2025-04-13",
         "7": "2:00-6:00PM",
         "8": "1",
         "9": "Chicago Avenue Fire Arts",
         "10": "80",
         "11": "2025-04-13",
         "index": 61,
         "key": 61
        },
        {
         "0": "CERAMIC, GLASS, METAL, & WOOD",
         "1": "BEGINNER POLYMER EARRINGS",
         "2": "Design and create your own pair of earrings from polymer clay! Learn the basics of polymer clay, including color mixing, creating textures, and assembling earrings in this beginner class. Supplies are provided.",
         "3": "3154SA",
         "4": "",
         "5": "E. Gagnon",
         "6": "2025-04-08",
         "7": "5:00-8:00PM",
         "8": "1",
         "9": "1780 West 7th",
         "10": "37",
         "11": "2025-04-08",
         "index": 62,
         "key": 62
        },
        {
         "0": "CERAMIC, GLASS, METAL, & WOOD",
         "1": "BEGINNER POLYMER EARRINGS",
         "2": "Design and create your own pair of earrings from polymer clay! Learn the basics of polymer clay, including color mixing, creating textures, and assembling earrings in this beginner class. Supplies are provided.",
         "3": "3154SB",
         "4": "",
         "5": "E. Gagnon",
         "6": "2025-05-12",
         "7": "5:00-8:00PM",
         "8": "1",
         "9": "1780 West 7th",
         "10": "37",
         "11": "2025-05-12",
         "index": 63,
         "key": 63
        },
        {
         "0": "CERAMIC, GLASS, METAL, & WOOD",
         "1": "NEW ADVANCED POLYMER EARRINGS",
         "2": "Ready to up your earring game? Craft 1-2 pairs of earrings using polymer clay while exploring advanced techniques such as marbling, layering, and 3-D design. All supplies and instructions are provided. Students should have completed the beginner course.",
         "3": "3292SA",
         "4": "",
         "5": "E. Gagnon",
         "6": "2025-04-22",
         "7": "5:00-8:30PM",
         "8": "1",
         "9": "1780 West 7th",
         "10": "45",
         "11": "2025-04-22",
         "index": 64,
         "key": 64
        },
        {
         "0": "CERAMIC, GLASS, METAL, & WOOD",
         "1": "NEW ADVANCED POLYMER EARRINGS",
         "2": "Ready to up your earring game? Craft 1-2 pairs of earrings using polymer clay while exploring advanced techniques such as marbling, layering, and 3-D design. All supplies and instructions are provided. Students should have completed the beginner course.",
         "3": "3292SB",
         "4": "",
         "5": "E. Gagnon",
         "6": "2025-05-20",
         "7": "5:00-8:30PM",
         "8": "1",
         "9": "1780 West 7th",
         "10": "45",
         "11": "2025-05-20",
         "index": 65,
         "key": 65
        },
        {
         "0": "CERAMIC, GLASS, METAL, & WOOD",
         "1": "NEW POLYMER CLAY GNOMES (ADULT + CHILD)",
         "2": "One adult and one child ages 5-15. Register under the name of the child attending. Is your garden or plant looking for a little friend? Build a funny little gnome with magical flowers to cover their hat! Take your creation home and bake it in your own oven to harden the clay. All supplies included.",
         "3": "3104SA",
         "4": "",
         "5": "Clay Squared",
         "6": "2025-05-03",
         "7": "9:00AM-4:00PM",
         "8": "1",
         "9": "MN School of Horseshoeing",
         "10": "73",
         "11": "2025-05-03",
         "index": 66,
         "key": 66
        },
        {
         "0": "CERAMIC, GLASS, METAL, & WOOD",
         "1": "NEW POLYMER CLAY GNOMES (ADULT + CHILD)",
         "2": "One adult and one child ages 5-15. Register under the name of the child attending. Is your garden or plant looking for a little friend? Build a funny little gnome with magical flowers to cover their hat! Take your creation home and bake it in your own oven to harden the clay. All supplies included.",
         "3": "3121SB",
         "4": "",
         "5": "Clay Squared",
         "6": "2025-06-08",
         "7": "2:00-6:00PM",
         "8": "1",
         "9": "Chicago Avenue Fire Arts",
         "10": "80",
         "11": "2025-06-08",
         "index": 67,
         "key": 67
        },
        {
         "0": "CERAMIC, GLASS, METAL, & WOOD",
         "1": "NEW POLYMER CLAY GNOMES (ADULT + CHILD)",
         "2": "One adult and one child ages 5-15. Register under the name of the child attending. Is your garden or plant looking for a little friend? Build a funny little gnome with magical flowers to cover their hat! Take your creation home and bake it in your own oven to harden the clay. All supplies included.",
         "3": "3279SA",
         "4": "",
         "5": "Clay Squared",
         "6": "2025-04-26",
         "7": "10:00AM-12:00PM",
         "8": "1",
         "9": "Clay Squared Gallery",
         "10": "55",
         "11": "2025-04-26",
         "index": 68,
         "key": 68
        },
        {
         "0": "CERAMIC, GLASS, METAL, & WOOD",
         "1": "NEW POLYMER CLAY DRAGONFLY",
         "2": "Create a dragonfly with polymer clay to hang on a wall or stick in a plant. Using the magic of layering colored clay. All supplies, including instructions for baking your project in your oven at home, provided.",
         "3": "3299SuA",
         "4": "",
         "5": "Clay Squared",
         "6": "2025-07-12",
         "7": "2:00-4:00PM",
         "8": "1",
         "9": "Clay Squared Gallery",
         "10": "43",
         "11": "2025-07-12",
         "index": 69,
         "key": 69
        }
       ],
       "schema": [
        {
         "key": "0",
         "name": "courseCategory",
         "type": "string"
        },
        {
         "key": "1",
         "name": "courseName",
         "type": "string"
        },
        {
         "key": "2",
         "name": "courseDescription",
         "type": "string"
        },
        {
         "key": "3",
         "name": "courseSectionNumber",
         "type": "string"
        },
        {
         "key": "4",
         "name": "courseSectionName",
         "type": "string"
        },
        {
         "key": "5",
         "name": "courseInstructor",
         "type": "string"
        },
        {
         "key": "6",
         "name": "courseStartDate",
         "type": "string"
        },
        {
         "key": "7",
         "name": "courseTime",
         "type": "string"
        },
        {
         "key": "8",
         "name": "numberOfSessions",
         "type": "bigint"
        },
        {
         "key": "9",
         "name": "courseLocation",
         "type": "string"
        },
        {
         "key": "10",
         "name": "courseCost",
         "type": "bigint"
        },
        {
         "key": "11",
         "name": "courseEndDate",
         "type": "string"
        }
       ],
       "truncated": false
      },
      "wranglerEntryContext": {
       "candidateVariableNames": [
        "df"
       ],
       "dataframeType": "pandas"
      }
     },
     "type": "Synapse.DataFrame"
    }
   },
   "version": "0.1"
  }
 },
 "nbformat": 4,
 "nbformat_minor": 5
}
